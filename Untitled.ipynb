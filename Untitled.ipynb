{
 "cells": [
  {
   "cell_type": "code",
   "execution_count": null,
   "id": "d9f87190-dfae-49bb-9bdb-9901eff01815",
   "metadata": {},
   "outputs": [],
   "source": [
    "import streamlit as st\n",
    "import pandas as pd\n",
    "from pycaret.classification import load_model, predict_model\n",
    "\n",
    "# Load the exported PyCaret model\n",
    "model = load_model('wheat_classifier')\n",
    "\n",
    "# App title\n",
    "st.title(\"Wheat Type Classification\")\n",
    "\n",
    "# Input fields for features used in training\n",
    "area = st.number_input(\"Area\", min_value=0.0)\n",
    "perimeter = st.number_input(\"Perimeter\", min_value=0.0)\n",
    "compactness = st.number_input(\"Compactness\", min_value=0.0)\n",
    "asymmetry_coeff = st.number_input(\"Asymmetry Coefficient\", min_value=0.0)\n",
    "groove = st.number_input(\"Groove\", min_value=0.0)\n",
    "\n",
    "# Predict button\n",
    "if st.button(\"Predict\"):\n",
    "    # Prepare input dataframe\n",
    "    input_data = pd.DataFrame({\n",
    "        'Area': [area],\n",
    "        'Perimeter': [perimeter],\n",
    "        'Compactness': [compactness],\n",
    "        'AsymmetryCoeff': [asymmetry_coeff],\n",
    "        'Groove': [groove]\n",
    "    })\n",
    "\n",
    "    # Make prediction\n",
    "    prediction = predict_model(model, data=input_data)\n",
    "\n",
    "    # Show prediction\n",
    "    st.success(f\"Predicted Wheat Type: {prediction['Label'][0]}\")"
   ]
  }
 ],
 "metadata": {
  "kernelspec": {
   "display_name": "Python 3.11 (PyCaret)",
   "language": "python",
   "name": "pycaret_env"
  },
  "language_info": {
   "codemirror_mode": {
    "name": "ipython",
    "version": 3
   },
   "file_extension": ".py",
   "mimetype": "text/x-python",
   "name": "python",
   "nbconvert_exporter": "python",
   "pygments_lexer": "ipython3",
   "version": "3.11.13"
  }
 },
 "nbformat": 4,
 "nbformat_minor": 5
}
